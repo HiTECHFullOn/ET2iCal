{
  "nbformat": 4,
  "nbformat_minor": 0,
  "metadata": {
    "colab": {
      "provenance": [],
      "authorship_tag": "ABX9TyOaugTHht1JF7ZAbHRdbgUk",
      "include_colab_link": true
    },
    "kernelspec": {
      "name": "python3",
      "display_name": "Python 3"
    },
    "language_info": {
      "name": "python"
    }
  },
  "cells": [
    {
      "cell_type": "markdown",
      "metadata": {
        "id": "view-in-github",
        "colab_type": "text"
      },
      "source": [
        "<a href=\"https://colab.research.google.com/github/HiTECHFullOn/ET2iCal/blob/main/everytime_to_iCal.ipynb\" target=\"_parent\"><img src=\"https://colab.research.google.com/assets/colab-badge.svg\" alt=\"Open In Colab\"/></a>"
      ]
    },
    {
      "cell_type": "code",
      "execution_count": null,
      "metadata": {
        "id": "RKLyFtXDW61H",
        "colab": {
          "base_uri": "https://localhost:8080/"
        },
        "outputId": "8b21ad3d-05ef-44a6-ecd7-2229dfdb4f48"
      },
      "outputs": [
        {
          "output_type": "stream",
          "name": "stdout",
          "text": [
            "Collecting selenium\n",
            "  Downloading selenium-4.16.0-py3-none-any.whl (10.0 MB)\n",
            "\u001b[2K     \u001b[90m━━━━━━━━━━━━━━━━━━━━━━━━━━━━━━━━━━━━━━━━\u001b[0m \u001b[32m10.0/10.0 MB\u001b[0m \u001b[31m25.4 MB/s\u001b[0m eta \u001b[36m0:00:00\u001b[0m\n",
            "\u001b[?25hRequirement already satisfied: urllib3[socks]<3,>=1.26 in /usr/local/lib/python3.10/dist-packages (from selenium) (2.0.7)\n",
            "Collecting trio~=0.17 (from selenium)\n",
            "  Downloading trio-0.23.1-py3-none-any.whl (448 kB)\n",
            "\u001b[2K     \u001b[90m━━━━━━━━━━━━━━━━━━━━━━━━━━━━━━━━━━━━━━━━\u001b[0m \u001b[32m448.3/448.3 kB\u001b[0m \u001b[31m51.3 MB/s\u001b[0m eta \u001b[36m0:00:00\u001b[0m\n",
            "\u001b[?25hCollecting trio-websocket~=0.9 (from selenium)\n",
            "  Downloading trio_websocket-0.11.1-py3-none-any.whl (17 kB)\n",
            "Requirement already satisfied: certifi>=2021.10.8 in /usr/local/lib/python3.10/dist-packages (from selenium) (2023.11.17)\n",
            "Requirement already satisfied: attrs>=20.1.0 in /usr/local/lib/python3.10/dist-packages (from trio~=0.17->selenium) (23.1.0)\n",
            "Requirement already satisfied: sortedcontainers in /usr/local/lib/python3.10/dist-packages (from trio~=0.17->selenium) (2.4.0)\n",
            "Requirement already satisfied: idna in /usr/local/lib/python3.10/dist-packages (from trio~=0.17->selenium) (3.6)\n",
            "Collecting outcome (from trio~=0.17->selenium)\n",
            "  Downloading outcome-1.3.0.post0-py2.py3-none-any.whl (10 kB)\n",
            "Requirement already satisfied: sniffio>=1.3.0 in /usr/local/lib/python3.10/dist-packages (from trio~=0.17->selenium) (1.3.0)\n",
            "Requirement already satisfied: exceptiongroup>=1.0.0rc9 in /usr/local/lib/python3.10/dist-packages (from trio~=0.17->selenium) (1.2.0)\n",
            "Collecting wsproto>=0.14 (from trio-websocket~=0.9->selenium)\n",
            "  Downloading wsproto-1.2.0-py3-none-any.whl (24 kB)\n",
            "Requirement already satisfied: pysocks!=1.5.7,<2.0,>=1.5.6 in /usr/local/lib/python3.10/dist-packages (from urllib3[socks]<3,>=1.26->selenium) (1.7.1)\n",
            "Collecting h11<1,>=0.9.0 (from wsproto>=0.14->trio-websocket~=0.9->selenium)\n",
            "  Downloading h11-0.14.0-py3-none-any.whl (58 kB)\n",
            "\u001b[2K     \u001b[90m━━━━━━━━━━━━━━━━━━━━━━━━━━━━━━━━━━━━━━━━\u001b[0m \u001b[32m58.3/58.3 kB\u001b[0m \u001b[31m8.8 MB/s\u001b[0m eta \u001b[36m0:00:00\u001b[0m\n",
            "\u001b[?25hInstalling collected packages: outcome, h11, wsproto, trio, trio-websocket, selenium\n",
            "Successfully installed h11-0.14.0 outcome-1.3.0.post0 selenium-4.16.0 trio-0.23.1 trio-websocket-0.11.1 wsproto-1.2.0\n",
            "Collecting vobject\n",
            "  Downloading vobject-0.9.6.1.tar.gz (58 kB)\n",
            "\u001b[2K     \u001b[90m━━━━━━━━━━━━━━━━━━━━━━━━━━━━━━━━━━━━━━━━\u001b[0m \u001b[32m58.6/58.6 kB\u001b[0m \u001b[31m2.8 MB/s\u001b[0m eta \u001b[36m0:00:00\u001b[0m\n",
            "\u001b[?25h  Preparing metadata (setup.py) ... \u001b[?25l\u001b[?25hdone\n",
            "Requirement already satisfied: python-dateutil>=2.4.0 in /usr/local/lib/python3.10/dist-packages (from vobject) (2.8.2)\n",
            "Requirement already satisfied: six>=1.5 in /usr/local/lib/python3.10/dist-packages (from python-dateutil>=2.4.0->vobject) (1.16.0)\n",
            "Building wheels for collected packages: vobject\n",
            "  Building wheel for vobject (setup.py) ... \u001b[?25l\u001b[?25hdone\n",
            "  Created wheel for vobject: filename=vobject-0.9.6.1-py3-none-any.whl size=47680 sha256=ab16ade98c609fa2d41b8371982a3d527378df8d8fc253af449353ee52a28bb3\n",
            "  Stored in directory: /root/.cache/pip/wheels/50/30/da/1b11581351fd0d2c273193d7f615532f95a48dcb717af207de\n",
            "Successfully built vobject\n",
            "Installing collected packages: vobject\n",
            "Successfully installed vobject-0.9.6.1\n"
          ]
        }
      ],
      "source": [
        "!pip install selenium\n",
        "!pip install vobject"
      ]
    },
    {
      "cell_type": "markdown",
      "source": [
        "## STEP 1. 에브리타임 시간표 불러오기"
      ],
      "metadata": {
        "id": "X9ktGli4qIqs"
      }
    },
    {
      "cell_type": "code",
      "source": [
        "from bs4 import BeautifulSoup\n",
        "import time\n",
        "from selenium import webdriver\n",
        "from selenium.webdriver.chrome.options import Options\n",
        "from selenium.webdriver.common.by import By\n",
        "\n",
        "options = Options()\n",
        "options.add_argument(\"--headless\")\n",
        "options.add_argument(\"--no-sandbox\")\n",
        "options.add_argument('user-agent=Mozilla/5.0 (Windows NT 10.0; Win64; x64) AppleWebKit/537.36 (KHTML, like Gecko) Chrome/58.0.3029.110 Safari/537.36')\n",
        "\n",
        "driver = webdriver.Chrome(options=options)"
      ],
      "metadata": {
        "id": "aqeQgw57ZFe6"
      },
      "execution_count": null,
      "outputs": []
    },
    {
      "cell_type": "code",
      "source": [
        "def return_time(subject): #div.subject를 Tag로 입력받아 수업 시수와 시작시간을 시간단위로 리턴\n",
        "  a = str(subject)\n",
        "  height = int(a[a.find(\"height: \")+8 : a.find(\"px; \")])-2\n",
        "  top = int(a[a.find(\"top: \")+5 : a.find(\"px;\\\">\")])\n",
        "  px = 50\n",
        "  mins = int((height/px)*60+1)\n",
        "  start = (int(((top/px)*60)//60), int(int((top/px)*60)%60))\n",
        "  return [start, mins]"
      ],
      "metadata": {
        "id": "GUuRtc2iaML0"
      },
      "execution_count": null,
      "outputs": []
    },
    {
      "cell_type": "code",
      "source": [
        "def get_table(url):\n",
        "  driver = webdriver.Chrome(options=options)\n",
        "  driver.get(url)\n",
        "  time.sleep(5)\n",
        "  driver.save_screenshot('screenshot.png')\n",
        "  html = driver.page_source\n",
        "  soup= BeautifulSoup(html, 'html.parser')\n",
        "  td = soup.select('#container > div > div.tablebody > table > tbody > tr > td')\n",
        "  subject = soup.select('#container > div > div.tablebody > table > tbody > tr > td > div > div.subject')\n",
        "  username = soup.select_one('#container > aside > div.title > h1').get_text()\n",
        "\n",
        "  subject_cnt = [] #요일별 과목 개수\n",
        "\n",
        "  for i in td:\n",
        "    cnt = str(i).count('<h3>')\n",
        "    subject_cnt.append(cnt)\n",
        "\n",
        "  driver.quit()\n",
        "\n",
        "  dow = ['MO','TU','WE','TH','FR','SA','SU']\n",
        "  dow_list = []\n",
        "  for i in range(len(subject_cnt)):\n",
        "      for j in range(subject_cnt[i]):\n",
        "          dow_list.append(dow[i])\n",
        "  sub_list = []\n",
        "\n",
        "  k=0\n",
        "  for i in subject :\n",
        "      sub=[]\n",
        "      sub.append(i.find('h3').get_text())     #과목명\n",
        "      sub.append(i.find('em').get_text())     #교수명\n",
        "      sub.append(i.find('span').get_text())   #장소\n",
        "      sub.append(return_time(i))              #시간정보\n",
        "      sub.append([dow_list[k]])\n",
        "      k+=1\n",
        "      sub_list.append(sub)\n",
        "  return [sub_list, username]"
      ],
      "metadata": {
        "id": "IEMagLIOYY5_"
      },
      "execution_count": null,
      "outputs": []
    },
    {
      "cell_type": "markdown",
      "source": [
        "## STEP 2. 불러온 시간표를 iCal 형식으로 변환"
      ],
      "metadata": {
        "id": "U3gAyFuZfg7X"
      }
    },
    {
      "cell_type": "code",
      "source": [
        "import vobject\n",
        "from datetime import datetime, timedelta\n",
        "semester_start = datetime(2023, 9, 1, 0, 0, 0)\n",
        "semester_end = '20231215T000000'"
      ],
      "metadata": {
        "id": "w8M1wb3EdA4U"
      },
      "execution_count": null,
      "outputs": []
    },
    {
      "cell_type": "code",
      "source": [
        "def cal(lesson, username):\n",
        "  (name, desc, loca, (starttime, mins), dow) = tuple(lesson)\n",
        "  global cal1\n",
        "  vevent = cal1.add('vevent')\n",
        "  vevent.add('summary').value = name\n",
        "  vevent.add('description').value = desc\n",
        "\n",
        "  dow_list = ['MO','TU','WE','TH','FR','SA','SU']\n",
        "  k=semester_start.weekday()\n",
        "  dow_list = dow_list[k:]+dow_list[:k]\n",
        "\n",
        "  n = dow_list.index(dow[0])\n",
        "  dtstart = semester_start + timedelta(days=n, hours=starttime[0], minutes=starttime[1])\n",
        "  dtend = dtstart + timedelta(minutes=mins)\n",
        "\n",
        "  vevent.add('dtstart').value = dtstart\n",
        "  vevent.add('dtend').value = dtend\n",
        "  vevent.add('dtstamp').value = semester_start\n",
        "  vevent.add('location').value = loca\n",
        "  vevent.add('rrule').value = 'FREQ=WEEKLY;INTERVAL=1;UNTIL='+semester_end+';BYDAY='+','.join(dow)\n",
        "\n",
        "  with open(username+'.ics','wb') as f:\n",
        "    f.write(cal1.serialize().encode('utf-8'))\n",
        "    print('iCal 파일 덮어쓰기 완료.')"
      ],
      "metadata": {
        "id": "XNeqK-jZf0BD"
      },
      "execution_count": null,
      "outputs": []
    },
    {
      "cell_type": "markdown",
      "source": [
        "# ⏰ 🔗 ➡ 📅 😏"
      ],
      "metadata": {
        "id": "z0_BcmIHsubG"
      }
    },
    {
      "cell_type": "code",
      "source": [
        "cal1 = vobject.iCalendar()\n",
        "url = input('에브리타임 시간표 링크를 입력하세요: ')\n",
        "data = get_table(url)\n",
        "sub_list = data[0]\n",
        "username = data[1]\n",
        "ID = url[21:]\n",
        "for lesson in sub_list:\n",
        "    cal(lesson, username)\n",
        "if sub_list == []:\n",
        "    print(\"공개되지 않은 시간표거나 잘못된 링크입니다.\")\n",
        "else: print('\\n왼쪽의 📁폴더 아이콘을 눌러 .ics 파일을 다운로드할 수 있습니다.')"
      ],
      "metadata": {
        "colab": {
          "base_uri": "https://localhost:8080/"
        },
        "id": "TRKmJSF3lgsO",
        "outputId": "43a6d697-af35-472b-f0d5-1846476e329c"
      },
      "execution_count": null,
      "outputs": [
        {
          "output_type": "stream",
          "name": "stdout",
          "text": [
            "에브리타임 시간표 링크를 입력하세요: https://everytime.kr/@VkZUnl4bjmWzG0nFVlE1\n",
            "iCal 파일 덮어쓰기 완료.\n",
            "iCal 파일 덮어쓰기 완료.\n",
            "iCal 파일 덮어쓰기 완료.\n",
            "iCal 파일 덮어쓰기 완료.\n",
            "iCal 파일 덮어쓰기 완료.\n",
            "iCal 파일 덮어쓰기 완료.\n",
            "iCal 파일 덮어쓰기 완료.\n",
            "iCal 파일 덮어쓰기 완료.\n",
            "iCal 파일 덮어쓰기 완료.\n",
            "iCal 파일 덮어쓰기 완료.\n",
            "iCal 파일 덮어쓰기 완료.\n",
            "\n",
            "왼쪽의 📁폴더 아이콘을 눌러 .ics 파일을 다운로드할 수 있습니다.\n"
          ]
        }
      ]
    },
    {
      "cell_type": "code",
      "source": [],
      "metadata": {
        "id": "hHCAUh5gn7gS"
      },
      "execution_count": null,
      "outputs": []
    }
  ]
}